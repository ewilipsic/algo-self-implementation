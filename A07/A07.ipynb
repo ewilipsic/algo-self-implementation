{
 "cells": [
  {
   "cell_type": "markdown",
   "metadata": {},
   "source": [
    "# A07\n"
   ]
  },
  {
   "cell_type": "markdown",
   "metadata": {},
   "source": [
    "Knn takes arguments\\\n",
    "data -> trainingData\\\n",
    "q -> point whose class is to be predicted\\\n",
    "k -> value of k to be used"
   ]
  },
  {
   "cell_type": "code",
   "execution_count": 160,
   "metadata": {},
   "outputs": [],
   "source": [
    "def knn(data,q,k):\n",
    "    \n",
    "    def give_dist(c1,c2): # function gives distance between two points\n",
    "        sum = 0\n",
    "        for i in range(len(c1)):\n",
    "            sum += (c1[i] - c2[i])**2\n",
    "        return sum**0.5\n",
    "\n",
    "    AB_dists = [(give_dist(q,x[1]),x[0]) for x in data]\n",
    "\n",
    "    # used to print data for markdown tables\n",
    "    # for x in range(4):\n",
    "    #     print(f\"|D{x+1}|1|{x+1}|{data[x][0]}|{AB_dists[x][0]}|\")\n",
    "    \n",
    "    AB_dists = sorted(AB_dists,key = lambda s : s[0])\n",
    "    \n",
    "    # counts labels of closest k labels\n",
    "    d = {}\n",
    "    for i in range(k):\n",
    "        if AB_dists[i][1] in d: d[AB_dists[i][1]] += 1\n",
    "        else: d[AB_dists[i][1]] = 1\n",
    "\n",
    "    #get label with maximum neighbours\n",
    "    AB_max = 0\n",
    "    AB_maxkey = ''\n",
    "    for x,y in d.items():\n",
    "        if(y>AB_max):\n",
    "            AB_max = y\n",
    "            AB_maxkey = x\n",
    "\n",
    "    return AB_maxkey"
   ]
  },
  {
   "cell_type": "markdown",
   "metadata": {},
   "source": [
    "# Q1 For Comedy and Action movies"
   ]
  },
  {
   "cell_type": "code",
   "execution_count": 161,
   "metadata": {},
   "outputs": [
    {
     "name": "stdout",
     "output_type": "stream",
     "text": [
      "best k =  1\n",
      "(6, 70) -> action\n",
      "(93, 23) -> comedy\n",
      "(50, 50) -> comedy\n"
     ]
    }
   ],
   "source": [
    "# co-ordinate system (comedy scenes,action scenes)\n",
    "AB_trainingData = [('comedy',(100,0)),('action',(0,100)),('action',(15,90)),('comedy',(85,20))]\n",
    "AB_validationData = [('action',(10,95)),('comedy',(85,15))]\n",
    "\n",
    "AB_AB_maxk = 0\n",
    "AB_AB_maxcur = 0\n",
    "\n",
    "#loop to get best k\n",
    "for AB_k in range(1,len(AB_trainingData) + 1,2):\n",
    "    AB_cor = 0\n",
    "    for AB_y,AB_x in AB_validationData:\n",
    "        if knn(AB_trainingData,AB_x,AB_k) == AB_y:\n",
    "            AB_cor += 1\n",
    "    if AB_cor > AB_AB_maxcur:\n",
    "        AB_AB_maxcur = AB_cor\n",
    "        AB_AB_maxk = AB_k\n",
    "\n",
    "print(\"best k = \",AB_AB_maxk)\n",
    "\n",
    "#predictions\n",
    "AB_testData = [(6,70),(93,23),(50,50)]\n",
    "AB_preds = []\n",
    "for x in AB_testData:\n",
    "        print(f\"{x} -> {knn(AB_trainingData,x,AB_AB_maxk)}\")\n",
    "\n",
    "\n"
   ]
  },
  {
   "cell_type": "markdown",
   "metadata": {},
   "source": [
    "## Table 1: Unsorted Distances \n",
    "|S.No|Validation Data|Train Data|Predicted Class|Euclidean Distance|\n",
    "|----|---------------|----------|---------------|------------------|\n",
    "|D1|1|1|comedy|130.86252328302402|\n",
    "|D2|1|2|action|11.180339887498949|\n",
    "|D3|1|3|action|7.0710678118654755|\n",
    "|D4|1|4|comedy|106.06601717798213|\n",
    "|D5|1|1|comedy|21.213203435596427|\n",
    "|D6|1|2|action|120.20815280171308|\n",
    "|D7|1|3|action|102.59142264341595|\n",
    "|D8|1|4|comedy|5.0|"
   ]
  },
  {
   "cell_type": "markdown",
   "metadata": {},
   "source": [
    "## Table 2: Sorted Distances \n",
    "|S.No|Validation Data|Train Data|Predicted Class|Euclidean Distance|\n",
    "|----|---------------|----------|---------------|------------------|\n",
    "|D8|1|4|comedy|5.0|\n",
    "|D3|1|3|action|7.0710678118654755|\n",
    "|D2|1|2|action|11.180339887498949|\n",
    "|D5|1|1|comedy|21.213203435596427|\n",
    "|D7|1|3|action|102.59142264341595|\n",
    "|D4|1|4|comedy|106.06601717798213|\n",
    "|D6|1|2|action|120.20815280171308|\n",
    "|D1|1|1|comedy|130.86252328302402|"
   ]
  },
  {
   "cell_type": "markdown",
   "metadata": {},
   "source": [
    "## Table 3: Accuracy for different values of 'k'  \n",
    "|S.No|Validation Data|Accuracy for K=1|Accuracy for K=3|\n",
    "|----|---------------|----------|---------------|\n",
    "|1|(10,95),Action|Action|Action|\n",
    "|1|(85,15),Comedy|Comedy|Comedy|\n"
   ]
  },
  {
   "cell_type": "markdown",
   "metadata": {},
   "source": [
    "## Table 4: Predictions using k = 1  \n",
    "|S.No|No of Comedy Scene|No of action scene|Predicted Class|Value of 'k'|\n",
    "|-|-|-|-|-|\n",
    "|1|6|70|Action|1|\n",
    "|1|93|23|Comedy|1|\n",
    "|1|50|50|Comedy|1|\n"
   ]
  },
  {
   "cell_type": "markdown",
   "metadata": {},
   "source": [
    "# Q2 Using KNN on IRIS Dataset\n",
    "Dataset obtained from iris.csv on https://gist.github.com/curran/a08a1080b88344b0c8a7"
   ]
  },
  {
   "cell_type": "markdown",
   "metadata": {},
   "source": [
    "Since we are using random to shuffle iris dataset best k depends on the random shuffle"
   ]
  },
  {
   "cell_type": "code",
   "execution_count": 174,
   "metadata": {},
   "outputs": [
    {
     "name": "stdout",
     "output_type": "stream",
     "text": [
      "Validation Data Accuracy for different K\n",
      "K = 1 Accuracy = 93.54839%\n",
      "K = 2 Accuracy = 93.54839%\n",
      "K = 3 Accuracy = 93.54839%\n",
      "K = 4 Accuracy = 93.54839%\n",
      "K = 5 Accuracy = 93.54839%\n",
      "K = 6 Accuracy = 93.54839%\n",
      "K = 7 Accuracy = 96.77419%\n",
      "K = 8 Accuracy = 93.54839%\n",
      "K = 9 Accuracy = 96.77419%\n",
      "Best k =  7\n",
      "Test Accuracy for best K  0.9777777777777777\n"
     ]
    }
   ],
   "source": [
    "import random\n",
    "\n",
    "iris = []\n",
    "\n",
    "with open(\"iris.csv\",\"r\") as f:\n",
    "    f.readline()\n",
    "    for line in f:\n",
    "        line = line.strip().split(',')\n",
    "        iris.append((line[-1],[float(x) for x in line[:-1]]))\n",
    "\n",
    "random.shuffle(iris) # shuffling data as iris is ordered by label \n",
    "\n",
    "AB_trainingData = iris[:74] # 70% for 70% of total\n",
    "AB_validationData = iris[74:105] # 30% for 70% of total\n",
    "AB_testData = iris[105:] # 30% of total\n",
    "\n",
    "AB_AB_maxk = 0\n",
    "AB_AB_maxcur = 0\n",
    "\n",
    "print(\"Validation Data Accuracy for different K\")\n",
    "for AB_k in [1,2,3,4,5,6,7,8,9]:\n",
    "    AB_cor = 0\n",
    "    for AB_y,AB_x in AB_validationData:\n",
    "        if knn(AB_trainingData,AB_x,AB_k) == AB_y:\n",
    "            AB_cor += 1\n",
    "    print(f\"K = {AB_k} Accuracy = {round(AB_cor/len(AB_validationData),7)*100}%\")\n",
    "    if AB_cor > AB_AB_maxcur:\n",
    "        AB_AB_maxcur = AB_cor\n",
    "        AB_AB_maxk = AB_k\n",
    "\n",
    "print(\"Best k = \",AB_AB_maxk)\n",
    "\n",
    "correct = 0\n",
    "for x in AB_testData:\n",
    "    pred = knn(AB_trainingData,x[1],AB_AB_maxk)\n",
    "    if(pred == x[0]):correct += 1\n",
    "\n",
    "\n",
    "print(\"Test Accuracy for best K \",correct/len(AB_testData))\n",
    "\n"
   ]
  }
 ],
 "metadata": {
  "kernelspec": {
   "display_name": "torch",
   "language": "python",
   "name": "python3"
  },
  "language_info": {
   "codemirror_mode": {
    "name": "ipython",
    "version": 3
   },
   "file_extension": ".py",
   "mimetype": "text/x-python",
   "name": "python",
   "nbconvert_exporter": "python",
   "pygments_lexer": "ipython3",
   "version": "3.11.5"
  }
 },
 "nbformat": 4,
 "nbformat_minor": 2
}
