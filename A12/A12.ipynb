{
 "cells": [
  {
   "cell_type": "markdown",
   "metadata": {},
   "source": [
    "# Assignment 12: Decision Tree Classifier\n"
   ]
  },
  {
   "cell_type": "code",
   "execution_count": 1,
   "metadata": {},
   "outputs": [],
   "source": [
    "import sklearn.datasets\n",
    "import sklearn.tree\n",
    "import numpy as np\n",
    "import math\n",
    "import pandas as pd"
   ]
  },
  {
   "cell_type": "markdown",
   "metadata": {},
   "source": [
    "# Task 1. Data Preprocessing"
   ]
  },
  {
   "cell_type": "code",
   "execution_count": 2,
   "metadata": {},
   "outputs": [],
   "source": [
    "iris_bunch = sklearn.datasets.load_iris(as_frame=True)\n",
    "iris = iris_bunch.frame[iris_bunch.frame.target != 2] # currently 0 is for setosa and 1 for versicolor\n",
    "iris = iris.replace({'target': {1: 0,0:1} }) # now 1 is for setosa and 0 for versicolor\n",
    "gp  = iris.groupby(['target'])\n",
    "\n",
    "iris_setosa = gp.get_group((1,))\n",
    "iris_versicolor = gp.get_group((0,))\n",
    "\n",
    "X = iris_setosa.iloc[:,:4].to_numpy(np.float32)\n",
    "Y = iris_setosa.iloc[:,4].to_numpy(np.float32)\n",
    "\n",
    "X_train,X_test = X[0:(X.shape[0]*8)//10],X[(X.shape[0]*8)//10:]\n",
    "Y_train,Y_test = Y[0:(X.shape[0]*8)//10],Y[(X.shape[0]*8)//10:]\n",
    "\n",
    "X = iris_versicolor.iloc[:,:4].to_numpy(np.float32)\n",
    "Y = iris_versicolor.iloc[:,4].to_numpy(np.float32)\n",
    "\n",
    "X_train = np.concatenate((X_train,X[0:(X.shape[0]*8)//10]),axis = 0)\n",
    "X_test = np.concatenate((X_test,X[(X.shape[0]*8)//10:]),axis = 0)\n",
    "\n",
    "Y_train = np.concatenate((Y_train,Y[0:(Y.shape[0]*8)//10]),axis = 0)\n",
    "Y_test = np.concatenate((Y_test,Y[(Y.shape[0]*8)//10:]),axis = 0)"
   ]
  },
  {
   "cell_type": "markdown",
   "metadata": {},
   "source": [
    "# Task 2. Decision Tree Implementation"
   ]
  },
  {
   "cell_type": "code",
   "execution_count": 3,
   "metadata": {},
   "outputs": [],
   "source": [
    "class DecisionTreeNode:\n",
    "    def __init__(self,index : int,threshold: float,isLeaf : bool,label = None) -> None:\n",
    "        self.index = index\n",
    "        self.threshold = threshold\n",
    "        self.isLeaf = isLeaf\n",
    "        self.label = label\n",
    "        self.right = None\n",
    "        self.left = None\n",
    "    \n",
    "    def decide(self,input):\n",
    "        if(self.isLeaf == True): return self.label\n",
    "        if(input[self.index] < self.threshold) : return self.left.decide(input)\n",
    "        return self.right.decide(input)\n",
    "\n",
    "def calculate_entropy(y):\n",
    "    one_len = y[y[:,4] == 1].shape[0]\n",
    "    zero_len = y[y[:,4] == 0].shape[0]    \n",
    "    p_one = one_len/(one_len + zero_len)\n",
    "    p_zero = zero_len/(one_len + zero_len)\n",
    "    ret = 0\n",
    "    if(p_one != 0): ret += p_one*math.log2(1/p_one)\n",
    "    if(p_zero != 0): ret += p_zero*math.log2(1/p_zero) \n",
    "    return ret\n",
    "\n",
    "def information_gain(y,y_left,y_right):\n",
    "    return calculate_entropy(y) - (len(y_left)/(len(y_left) + len(y_right)))*calculate_entropy(y_left) - (len(y_right)/(len(y_left) + len(y_right)))*calculate_entropy(y_right)\n",
    "\n",
    "def get_threshold(C,feature):\n",
    "    sorted_indices = np.argsort(C[:, feature])\n",
    "    sorted_array = C[sorted_indices]\n",
    "    \n",
    "    threshold = sorted_array[sorted_array.shape[0]-1,feature]\n",
    "    for i in range(sorted_array.shape[0]-2,-1,-1):\n",
    "        if sorted_array[i,4] == sorted_array[i+1,4]:\n",
    "            threshold = sorted_array[i,feature]\n",
    "        else: break\n",
    "    return threshold\n",
    "\n",
    "\n",
    "def best_split(X, y):\n",
    "    C = np.concatenate((X,np.expand_dims(y,axis = 0).T),axis = 1)\n",
    "    ig = {}\n",
    "    threshold = [0,0,0,0]\n",
    "    for feature in range(4):\n",
    "        threshold[feature] = get_threshold(C,feature)\n",
    "        ig[feature] = information_gain(C,\n",
    "                                       C[C[:,feature] < threshold[feature]],\n",
    "                                       C[C[:,feature] >= threshold[feature]]\n",
    "                                        )\n",
    "    max_feature = 0\n",
    "\n",
    "    for f,info_gain in ig.items():\n",
    "        if info_gain > ig[max_feature]:\n",
    "            max_feature = f\n",
    "\n",
    "    return max_feature,threshold[max_feature]\n",
    "\n",
    "def build_tree(X,y,max_depth):\n",
    "\n",
    "   \n",
    "    if(y[y == 1].shape[0] == y.shape[0]):\n",
    "       \n",
    "        return DecisionTreeNode(-1,-1,True,1)\n",
    "    if(y[y == 0].shape[0] == y.shape[0]):\n",
    "      \n",
    "        return DecisionTreeNode(-1,-1,True,0)\n",
    "\n",
    "    if(max_depth == 0):\n",
    "        one_len = y[y == 1].shape[0]\n",
    "        zero_len = y[y == 0].shape[0]\n",
    "        if(one_len > zero_len):\n",
    "            return DecisionTreeNode(-1,-1,True,1)\n",
    "        else:\n",
    "            return DecisionTreeNode(-1,-1,True,0)\n",
    "    \n",
    "    \n",
    "\n",
    "    max_feature,threshold = best_split(X,y)\n",
    "    root = DecisionTreeNode(max_feature,threshold,False)\n",
    "    root.left = build_tree(X[X[:,max_feature] < threshold],y[X[:,max_feature] < threshold],max_depth -1)\n",
    "    root.right = build_tree(X[X[:,max_feature] >= threshold],y[X[:,max_feature] >= threshold],max_depth -1)\n",
    "    return root"
   ]
  },
  {
   "cell_type": "code",
   "execution_count": 4,
   "metadata": {},
   "outputs": [],
   "source": [
    "def predict_single_instance(x, tree):\n",
    "    return tree.decide(x)\n",
    "\n",
    "def predict_decision_tree(X_test, tree):\n",
    "    preds = []\n",
    "    for i in range(X_test.shape[0]):\n",
    "        preds.append(tree.decide(X_test[i]))\n",
    "    return np.array(preds)\n",
    "\n",
    "def accuracy(y_pred,y_true):\n",
    "    correct = 0\n",
    "    for i in range(y_true.shape[0]):\n",
    "        if y_pred[i] == y_true[i]:\n",
    "            correct+=1\n",
    "    return correct/y_true.shape[0] \n"
   ]
  },
  {
   "cell_type": "code",
   "execution_count": 5,
   "metadata": {},
   "outputs": [
    {
     "name": "stdout",
     "output_type": "stream",
     "text": [
      "Accuracy of self-made Decision Tree with max depth = 1 : 0.95\n",
      "Accuracy of self-made Decision Tree with max depth = 2 : 0.95\n",
      "Accuracy of self-made Decision Tree with max depth = 3 : 0.95\n",
      "Accuracy of self-made Decision Tree with max depth = 4 : 0.95\n",
      "Accuracy of self-made Decision Tree with max depth = 5 : 0.95\n",
      "Accuracy of self-made Decision Tree with max depth = 6 : 0.95\n",
      "Accuracy of self-made Decision Tree with max depth = 7 : 0.95\n",
      "Accuracy of self-made Decision Tree with max depth = 8 : 0.95\n",
      "Accuracy of self-made Decision Tree with max depth = 9 : 0.95\n",
      "Accuracy of self-made Decision Tree with max depth = 10 : 0.95\n"
     ]
    }
   ],
   "source": [
    "for i in range(1,11):\n",
    "    tree = build_tree(X_train,Y_train,i)\n",
    "    preds  = predict_decision_tree(X_test,tree)\n",
    "    print(f\"Accuracy of self-made Decision Tree with max depth = {i} : {accuracy(preds,Y_test)}\")"
   ]
  },
  {
   "cell_type": "markdown",
   "metadata": {},
   "source": [
    "# Task 3. Comparison with Scikit-Learn"
   ]
  },
  {
   "cell_type": "code",
   "execution_count": 6,
   "metadata": {},
   "outputs": [
    {
     "name": "stdout",
     "output_type": "stream",
     "text": [
      "Accuracy of self-made Decision Tree: 0.95\n",
      "Accuracy of sklearn Decision Tree: 1.0\n"
     ]
    }
   ],
   "source": [
    "tree = build_tree(X_train,Y_train,5)\n",
    "preds  = predict_decision_tree(X_test,tree)\n",
    "\n",
    "sk_tree = sklearn.tree.DecisionTreeClassifier(max_depth = 5)\n",
    "sk_tree.fit(X_train,Y_train)\n",
    "sk_pred = sk_tree.predict(X_test)\n",
    "\n",
    "print(f\"Accuracy of self-made Decision Tree: {accuracy(preds,Y_test)}\")\n",
    "print(f\"Accuracy of sklearn Decision Tree: {accuracy(sk_pred,Y_test)}\")\n"
   ]
  },
  {
   "cell_type": "markdown",
   "metadata": {},
   "source": [
    "# Task 4. Visualization and Analysis"
   ]
  },
  {
   "cell_type": "code",
   "execution_count": 7,
   "metadata": {},
   "outputs": [
    {
     "data": {
      "text/plain": [
       "[Text(0.5, 0.75, 'x[3] <= 0.75\\ngini = 0.5\\nsamples = 80\\nvalue = [40, 40]'),\n",
       " Text(0.25, 0.25, 'gini = 0.0\\nsamples = 40\\nvalue = [0, 40]'),\n",
       " Text(0.375, 0.5, 'True  '),\n",
       " Text(0.75, 0.25, 'gini = 0.0\\nsamples = 40\\nvalue = [40, 0]'),\n",
       " Text(0.625, 0.5, '  False')]"
      ]
     },
     "execution_count": 7,
     "metadata": {},
     "output_type": "execute_result"
    },
    {
     "data": {
      "image/png": "[encoded data removed]",
      "text/plain": [
       "<Figure size 640x480 with 1 Axes>"
      ]
     },
     "metadata": {},
     "output_type": "display_data"
    }
   ],
   "source": [
    "sklearn.tree.plot_tree(sk_tree)"
   ]
  },
  {
   "cell_type": "markdown",
   "metadata": {},
   "source": [
    "## Analysis: Examine the performance of the Decision Tree classifier:\n"
   ]
  },
  {
   "cell_type": "markdown",
   "metadata": {},
   "source": [
    "Q1 – How does the maximum depth max_depth affect the accuracy and overfitting of the model?<br>\n",
    "Ans - In this example the max_depth does not really affect the overfitting of the model as it is able to achieve 100% accuracy on training data with only 1 depth.<br><br>\n",
    "Q2 – What are the strengths and limitations of using a Decision Tree for this binary classification problem?<br>\n",
    "Ans - With good choice of feature and threshold it is possible to achieve 100% accuracy in this test set for all max_depth values.<br>So there are no notable limitations shown by Dicision Tree in this example"
   ]
  }
 ],
 "metadata": {
  "kernelspec": {
   "display_name": "torch",
   "language": "python",
   "name": "python3"
  },
  "language_info": {
   "codemirror_mode": {
    "name": "ipython",
    "version": 3
   },
   "file_extension": ".py",
   "mimetype": "text/x-python",
   "name": "python",
   "nbconvert_exporter": "python",
   "pygments_lexer": "ipython3",
   "version": "3.11.5"
  }
 },
 "nbformat": 4,
 "nbformat_minor": 2
}
